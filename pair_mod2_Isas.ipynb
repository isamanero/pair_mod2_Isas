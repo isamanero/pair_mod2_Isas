{
 "cells": [
  {
   "cell_type": "code",
   "execution_count": 1,
   "metadata": {},
   "outputs": [],
   "source": [
    "import pandas as pd"
   ]
  },
  {
   "cell_type": "code",
   "execution_count": 2,
   "metadata": {},
   "outputs": [],
   "source": [
    "import requests"
   ]
  },
  {
   "cell_type": "markdown",
   "metadata": {},
   "source": [
    " Base guion: https://apidatos.ree.es/es/datos/balance/balance-electrico?start_date=2019-01-01T00:00&end_date=2019-01-31T23:59&time_trunc=day\n",
    "\n",
    " URL entre años (según el web): https://apidatos.ree.es/es/datos/generacion/estructura-generacion?start_date=2014-01-01T00:00&end_date=2018-12-31T23:59&time_trunc=year&geo_trunc=electric_system&geo_limit=ccaa&geo_ids=7\n",
    "\n",
    " /es/datos/generacion/evolucion-renovable-no-renovable"
   ]
  },
  {
   "cell_type": "code",
   "execution_count": 66,
   "metadata": {},
   "outputs": [],
   "source": [
    "url = \"https://apidatos.ree.es/es/datos/generacion/estructura-generacion?start_date=2011-01-01T00:00&end_date=2011-12-31T23:59&time_trunc=year\""
   ]
  },
  {
   "cell_type": "code",
   "execution_count": 67,
   "metadata": {},
   "outputs": [
    {
     "data": {
      "text/plain": [
       "<Response [200]>"
      ]
     },
     "execution_count": 67,
     "metadata": {},
     "output_type": "execute_result"
    }
   ],
   "source": [
    "requests.get(url)"
   ]
  },
  {
   "cell_type": "code",
   "execution_count": 69,
   "metadata": {},
   "outputs": [],
   "source": [
    "electricidad = requests.get(url)"
   ]
  },
  {
   "cell_type": "code",
   "execution_count": 70,
   "metadata": {},
   "outputs": [],
   "source": [
    "datos_elec = electricidad.json()"
   ]
  },
  {
   "cell_type": "code",
   "execution_count": 73,
   "metadata": {},
   "outputs": [
    {
     "data": {
      "text/plain": [
       "b'{\"data\":{\"type\":\"Generaci\\\\u00f3n por tecnolog\\\\u00eda\",\"id\":\"gen1\",\"attributes\":{\"title\":\"Generaci\\\\u00f3n por tecnolog\\\\u00eda\",\"last-update\":\"2019-06-12T15:32:24.000+02:00\",\"description\":null},\"meta\":{\"cache-control\":{\"cache\":\"HIT\",\"expireAt\":\"2025-03-21T10:26:17\"}}},\"included\":[{\"type\":\"Hidr\\\\u00e1ulica\",\"id\":\"10288\",\"groupId\":\"1\",\"attributes\":{\"title\":\"Hidr\\\\u00e1ulica\",\"description\":null,\"color\":\"#0090d1\",\"type\":\"Renovable\",\"magnitude\":null,\"composite\":false,\"last-update\":\"2019-06-12T15:32:24.000+02:00\",\"values\":[{\"value\":30437318.14,\"percentage\":0.10980657323124415,\"datetime\":\"2011-01-01T00:00:00.000+01:00\"}]}},{\"type\":\"Nuclear\",\"id\":\"1446\",\"groupId\":\"1\",\"attributes\":{\"title\":\"Nuclear\",\"description\":null,\"color\":\"#464394\",\"type\":\"No-Renovable\",\"magnitude\":null,\"composite\":false,\"last-update\":\"2018-12-10T12:55:09.000+01:00\",\"values\":[{\"value\":55005874.867,\"percentage\":0.19844082842483596,\"datetime\":\"2011-01-01T00:00:00.000+01:00\"}]}},{\"type\":\"Carb\\\\u00f3n\",\"id\":\"10289\",\"groupId\":\"1\",\"attributes\":{\"title\":\"Carb\\\\u00f3n\",\"description\":null,\"color\":\"#993300\",\"type\":\"No-Renovable\",\"magnitude\":null,\"composite\":false,\"last-update\":\"2018-12-21T10:43:14.000+01:00\",\"values\":[{\"value\":43177464.3769999,\"percentage\":0.1557683033125623,\"datetime\":\"2011-01-01T00:00:00.000+01:00\"}]}},{\"type\":\"Fuel + Gas\",\"id\":\"10290\",\"groupId\":\"1\",\"attributes\":{\"title\":\"Fuel + Gas\",\"description\":null,\"color\":\"#ba0f16\",\"type\":\"No-Renovable\",\"magnitude\":null,\"composite\":false,\"last-update\":\"2018-12-10T12:55:14.000+01:00\",\"values\":[{\"value\":-10012.343,\"percentage\":3.6120826078990247e-5,\"datetime\":\"2011-01-01T00:00:00.000+01:00\"}]}},{\"type\":\"Motores di\\\\u00e9sel\",\"id\":\"10344\",\"groupId\":\"1\",\"attributes\":{\"title\":\"Motores di\\\\u00e9sel\",\"description\":null,\"color\":\"#8DA69F\",\"type\":\"No-Renovable\",\"magnitude\":null,\"composite\":false,\"last-update\":\"2018-12-21T10:43:15.000+01:00\",\"values\":[{\"value\":3503397.878,\"percentage\":0.01263896227254115,\"datetime\":\"2011-01-01T00:00:00.000+01:00\"}]}},{\"type\":\"Turbina de gas\",\"id\":\"1450\",\"groupId\":\"1\",\"attributes\":{\"title\":\"Turbina de gas\",\"description\":null,\"color\":\"#00ccff\",\"type\":\"No-Renovable\",\"magnitude\":null,\"composite\":false,\"last-update\":\"2018-12-21T10:43:18.000+01:00\",\"values\":[{\"value\":880242.223,\"percentage\":0.003175587996172998,\"datetime\":\"2011-01-01T00:00:00.000+01:00\"}]}},{\"type\":\"Turbina de vapor\",\"id\":\"1451\",\"groupId\":\"1\",\"attributes\":{\"title\":\"Turbina de vapor\",\"description\":null,\"color\":\"#AF8E00\",\"type\":\"No-Renovable\",\"magnitude\":null,\"composite\":false,\"last-update\":\"2018-12-10T12:55:13.000+01:00\",\"values\":[{\"value\":2634295.117,\"percentage\":0.009503561330438864,\"datetime\":\"2011-01-01T00:00:00.000+01:00\"}]}},{\"type\":\"Ciclo combinado\",\"id\":\"1454\",\"groupId\":\"1\",\"attributes\":{\"title\":\"Ciclo combinado\",\"description\":null,\"color\":\"#ffcc66\",\"type\":\"No-Renovable\",\"magnitude\":null,\"composite\":false,\"last-update\":\"2018-12-21T10:43:20.000+01:00\",\"values\":[{\"value\":53430948.742,\"percentage\":0.19275907814436885,\"datetime\":\"2011-01-01T00:00:00.000+01:00\"}]}},{\"type\":\"E\\\\u00f3lica\",\"id\":\"10291\",\"groupId\":\"1\",\"attributes\":{\"title\":\"E\\\\u00f3lica\",\"description\":null,\"color\":\"#6fb114\",\"type\":\"Renovable\",\"magnitude\":null,\"composite\":false,\"last-update\":\"2018-12-10T12:55:16.000+01:00\",\"values\":[{\"value\":42477250.769,\"percentage\":0.15324219189661237,\"datetime\":\"2011-01-01T00:00:00.000+01:00\"}]}},{\"type\":\"Solar fotovoltaica\",\"id\":\"1458\",\"groupId\":\"1\",\"attributes\":{\"title\":\"Solar fotovoltaica\",\"description\":null,\"color\":\"#e48500\",\"type\":\"Renovable\",\"magnitude\":null,\"composite\":false,\"last-update\":\"2018-12-10T12:55:17.000+01:00\",\"values\":[{\"value\":7440752.38,\"percentage\":0.0268434793549135,\"datetime\":\"2011-01-01T00:00:00.000+01:00\"}]}},{\"type\":\"Solar t\\\\u00e9rmica\",\"id\":\"1459\",\"groupId\":\"1\",\"attributes\":{\"title\":\"Solar t\\\\u00e9rmica\",\"description\":null,\"color\":\"#ff0000\",\"type\":\"Renovable\",\"magnitude\":null,\"composite\":false,\"last-update\":\"2018-12-10T12:55:18.000+01:00\",\"values\":[{\"value\":1861641.549,\"percentage\":0.006716113362561689,\"datetime\":\"2011-01-01T00:00:00.000+01:00\"}]}},{\"type\":\"Otras renovables\",\"id\":\"10292\",\"groupId\":\"1\",\"attributes\":{\"title\":\"Otras renovables\",\"description\":null,\"color\":\"#9a5cbc\",\"type\":\"Renovable\",\"magnitude\":null,\"composite\":false,\"last-update\":\"2018-12-10T12:55:21.000+01:00\",\"values\":[{\"value\":3714034.268,\"percentage\":0.013398860371227578,\"datetime\":\"2011-01-01T00:00:00.000+01:00\"}]}},{\"type\":\"Cogeneraci\\\\u00f3n\",\"id\":\"10293\",\"groupId\":\"1\",\"attributes\":{\"title\":\"Cogeneraci\\\\u00f3n\",\"description\":null,\"color\":\"#cfa2ca\",\"type\":\"No-Renovable\",\"magnitude\":null,\"composite\":false,\"last-update\":\"2018-12-10T12:55:24.000+01:00\",\"values\":[{\"value\":30593251.7239999,\"percentage\":0.1103691238617543,\"datetime\":\"2011-01-01T00:00:00.000+01:00\"}]}},{\"type\":\"Residuos no renovables\",\"id\":\"10294\",\"groupId\":\"1\",\"attributes\":{\"title\":\"Residuos no renovables\",\"description\":null,\"color\":\"#666666\",\"type\":\"No-Renovable\",\"magnitude\":null,\"composite\":false,\"last-update\":\"2018-12-10T12:55:27.000+01:00\",\"values\":[{\"value\":1287770.48,\"percentage\":0.004645799044013752,\"datetime\":\"2011-01-01T00:00:00.000+01:00\"}]}},{\"type\":\"Residuos renovables\",\"id\":\"10295\",\"groupId\":\"1\",\"attributes\":{\"title\":\"Residuos renovables\",\"description\":null,\"color\":\"#a0a0a0\",\"type\":\"Renovable\",\"magnitude\":null,\"composite\":false,\"last-update\":\"2018-12-10T12:55:25.000+01:00\",\"values\":[{\"value\":736055.744,\"percentage\":0.0026554165706733942,\"datetime\":\"2011-01-01T00:00:00.000+01:00\"}]}},{\"type\":\"Generaci\\\\u00f3n total\",\"id\":\"1\",\"groupId\":\"1\",\"attributes\":{\"title\":\"Generaci\\\\u00f3n total\",\"description\":null,\"color\":\"#2b2e34\",\"type\":\"Generaci\\\\u00f3n total\",\"magnitude\":null,\"composite\":true,\"last-update\":\"2019-06-12T15:32:24.000+02:00\",\"values\":[{\"value\":277170285.91499984,\"percentage\":1,\"datetime\":\"2011-01-01T00:00:00.000+01:00\"}]}}]}'"
      ]
     },
     "execution_count": 73,
     "metadata": {},
     "output_type": "execute_result"
    }
   ],
   "source": [
    "electricidad.content"
   ]
  },
  {
   "cell_type": "code",
   "execution_count": null,
   "metadata": {},
   "outputs": [
    {
     "data": {
      "text/plain": [
       "dict"
      ]
     },
     "execution_count": 78,
     "metadata": {},
     "output_type": "execute_result"
    }
   ],
   "source": [
    "type(datos_elec) #diccionario de diccionarios"
   ]
  },
  {
   "cell_type": "code",
   "execution_count": 80,
   "metadata": {},
   "outputs": [
    {
     "data": {
      "text/plain": [
       "dict_keys(['data', 'included'])"
      ]
     },
     "execution_count": 80,
     "metadata": {},
     "output_type": "execute_result"
    }
   ],
   "source": [
    "datos_elec.keys()"
   ]
  },
  {
   "cell_type": "code",
   "execution_count": 81,
   "metadata": {},
   "outputs": [
    {
     "data": {
      "text/plain": [
       "dict_values(['Generación por tecnología', 'gen1', {'title': 'Generación por tecnología', 'last-update': '2019-06-12T15:32:24.000+02:00', 'description': None}, {'cache-control': {'cache': 'HIT', 'expireAt': '2025-03-21T10:26:17'}}])"
      ]
     },
     "execution_count": 81,
     "metadata": {},
     "output_type": "execute_result"
    }
   ],
   "source": [
    "datos_elec[\"data\"].values()"
   ]
  },
  {
   "cell_type": "code",
   "execution_count": 83,
   "metadata": {},
   "outputs": [
    {
     "name": "stdout",
     "output_type": "stream",
     "text": [
      "https://apidatos.ree.es/es/datos/generacion/estructura-generacion?start_date=2011-01-01T00:00&end_date=2011-12-31T23:59&time_trunc=year\n",
      "https://apidatos.ree.es/es/datos/generacion/estructura-generacion?start_date=2012-01-01T00:00&end_date=2012-12-31T23:59&time_trunc=year\n",
      "https://apidatos.ree.es/es/datos/generacion/estructura-generacion?start_date=2013-01-01T00:00&end_date=2013-12-31T23:59&time_trunc=year\n",
      "https://apidatos.ree.es/es/datos/generacion/estructura-generacion?start_date=2014-01-01T00:00&end_date=2014-12-31T23:59&time_trunc=year\n",
      "https://apidatos.ree.es/es/datos/generacion/estructura-generacion?start_date=2015-01-01T00:00&end_date=2015-12-31T23:59&time_trunc=year\n",
      "https://apidatos.ree.es/es/datos/generacion/estructura-generacion?start_date=2016-01-01T00:00&end_date=2016-12-31T23:59&time_trunc=year\n",
      "https://apidatos.ree.es/es/datos/generacion/estructura-generacion?start_date=2017-01-01T00:00&end_date=2017-12-31T23:59&time_trunc=year\n",
      "https://apidatos.ree.es/es/datos/generacion/estructura-generacion?start_date=2018-01-01T00:00&end_date=2018-12-31T23:59&time_trunc=year\n",
      "https://apidatos.ree.es/es/datos/generacion/estructura-generacion?start_date=2019-01-01T00:00&end_date=2019-12-31T23:59&time_trunc=year\n",
      "https://apidatos.ree.es/es/datos/generacion/estructura-generacion?start_date=2020-01-01T00:00&end_date=2020-12-31T23:59&time_trunc=year\n",
      "https://apidatos.ree.es/es/datos/generacion/estructura-generacion?start_date=2021-01-01T00:00&end_date=2021-12-31T23:59&time_trunc=year\n",
      "https://apidatos.ree.es/es/datos/generacion/estructura-generacion?start_date=2022-01-01T00:00&end_date=2022-12-31T23:59&time_trunc=year\n",
      "https://apidatos.ree.es/es/datos/generacion/estructura-generacion?start_date=2023-01-01T00:00&end_date=2023-12-31T23:59&time_trunc=year\n"
     ]
    }
   ],
   "source": [
    "\"\"\" Explicacion César (primero hay que sacar los datos de 2011 y ver donde esta lo que necesito, cuando tengo\n",
    "la estructura de datos para el 2011 ya lo aplico\"\"\"\n",
    "\n",
    "for año in range(2011,2024):\n",
    "    url_nacional = f\"https://apidatos.ree.es/es/datos/generacion/estructura-generacion?start_date={año}-01-01T00:00&end_date={año}-12-31T23:59&time_trunc=year\"\n",
    "    print (url_nacional)"
   ]
  }
 ],
 "metadata": {
  "kernelspec": {
   "display_name": "Python 3",
   "language": "python",
   "name": "python3"
  },
  "language_info": {
   "codemirror_mode": {
    "name": "ipython",
    "version": 3
   },
   "file_extension": ".py",
   "mimetype": "text/x-python",
   "name": "python",
   "nbconvert_exporter": "python",
   "pygments_lexer": "ipython3",
   "version": "3.12.7"
  }
 },
 "nbformat": 4,
 "nbformat_minor": 2
}
